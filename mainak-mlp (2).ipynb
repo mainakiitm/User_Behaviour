{
 "cells": [
  {
   "cell_type": "code",
   "execution_count": 1,
   "id": "67cf8153",
   "metadata": {
    "_cell_guid": "b1076dfc-b9ad-4769-8c92-a6c4dae69d19",
    "_uuid": "8f2839f25d086af736a60e9eeb907d3b93b6e0e5",
    "execution": {
     "iopub.execute_input": "2022-12-19T09:58:45.726987Z",
     "iopub.status.busy": "2022-12-19T09:58:45.726429Z",
     "iopub.status.idle": "2022-12-19T09:58:45.741582Z",
     "shell.execute_reply": "2022-12-19T09:58:45.740671Z"
    },
    "papermill": {
     "duration": 0.024352,
     "end_time": "2022-12-19T09:58:45.743754",
     "exception": false,
     "start_time": "2022-12-19T09:58:45.719402",
     "status": "completed"
    },
    "tags": []
   },
   "outputs": [
    {
     "name": "stdout",
     "output_type": "stream",
     "text": [
      "/kaggle/input/marketing-strategy-personalised-offer/sample.csv\n",
      "/kaggle/input/marketing-strategy-personalised-offer/train_data.csv\n",
      "/kaggle/input/marketing-strategy-personalised-offer/test_data.csv\n"
     ]
    }
   ],
   "source": [
    "# This Python 3 environment comes with many helpful analytics libraries installed\n",
    "# It is defined by the kaggle/python Docker image: https://github.com/kaggle/docker-python\n",
    "# For example, here's several helpful packages to load\n",
    "\n",
    "import numpy as np # linear algebra\n",
    "import pandas as pd # data processing, CSV file I/O (e.g. pd.read_csv)\n",
    "\n",
    "# Input data files are available in the read-only \"../input/\" directory\n",
    "# For example, running this (by clicking run or pressing Shift+Enter) will list all files under the input directory\n",
    "\n",
    "import os\n",
    "for dirname, _, filenames in os.walk('/kaggle/input'):\n",
    "    for filename in filenames:\n",
    "        print(os.path.join(dirname, filename))\n",
    "\n",
    "# You can write up to 20GB to the current directory (/kaggle/working/) that gets preserved as output when you create a version using \"Save & Run All\" \n",
    "# You can also write temporary files to /kaggle/temp/, but they won't be saved outside of the current session"
   ]
  },
  {
   "cell_type": "code",
   "execution_count": 2,
   "id": "b2f9fe95",
   "metadata": {
    "execution": {
     "iopub.execute_input": "2022-12-19T09:58:45.752598Z",
     "iopub.status.busy": "2022-12-19T09:58:45.752338Z",
     "iopub.status.idle": "2022-12-19T09:58:45.841402Z",
     "shell.execute_reply": "2022-12-19T09:58:45.840519Z"
    },
    "papermill": {
     "duration": 0.096079,
     "end_time": "2022-12-19T09:58:45.843890",
     "exception": false,
     "start_time": "2022-12-19T09:58:45.747811",
     "status": "completed"
    },
    "tags": []
   },
   "outputs": [],
   "source": [
    "train_data = pd.read_csv('/kaggle/input/marketing-strategy-personalised-offer/train_data.csv')"
   ]
  },
  {
   "cell_type": "code",
   "execution_count": 3,
   "id": "5b4666c0",
   "metadata": {
    "execution": {
     "iopub.execute_input": "2022-12-19T09:58:45.853315Z",
     "iopub.status.busy": "2022-12-19T09:58:45.852672Z",
     "iopub.status.idle": "2022-12-19T09:58:45.887810Z",
     "shell.execute_reply": "2022-12-19T09:58:45.885974Z"
    },
    "papermill": {
     "duration": 0.042112,
     "end_time": "2022-12-19T09:58:45.889934",
     "exception": false,
     "start_time": "2022-12-19T09:58:45.847822",
     "status": "completed"
    },
    "tags": []
   },
   "outputs": [
    {
     "name": "stdout",
     "output_type": "stream",
     "text": [
      "<class 'pandas.core.frame.DataFrame'>\n",
      "RangeIndex: 12379 entries, 0 to 12378\n",
      "Data columns (total 30 columns):\n",
      " #   Column                                Non-Null Count  Dtype \n",
      "---  ------                                --------------  ----- \n",
      " 0   offer expiration                      12379 non-null  object\n",
      " 1   income_range                          12379 non-null  object\n",
      " 2   no_visited_Cold drinks                12181 non-null  object\n",
      " 3   travelled_more_than_15mins_for_offer  12379 non-null  int64 \n",
      " 4   Restaur_spend_less_than20             12258 non-null  object\n",
      " 5   Marital Status                        12379 non-null  object\n",
      " 6   restaurant type                       12379 non-null  object\n",
      " 7   age                                   12379 non-null  object\n",
      " 8   Prefer western over chinese           12379 non-null  int64 \n",
      " 9   travelled_more_than_25mins_for_offer  12379 non-null  int64 \n",
      " 10  travelled_more_than_5mins_for_offer   12379 non-null  int64 \n",
      " 11  no_visited_bars                       12286 non-null  object\n",
      " 12  gender                                12379 non-null  object\n",
      " 13  car                                   111 non-null    object\n",
      " 14  restuarant_same_direction_house       12379 non-null  int64 \n",
      " 15  Cooks regularly                       12379 non-null  int64 \n",
      " 16  Customer type                         12379 non-null  object\n",
      " 17  Qualification                         12379 non-null  object\n",
      " 18  is foodie                             12379 non-null  int64 \n",
      " 19  no_Take-aways                         12235 non-null  object\n",
      " 20  Job/Job Industry                      12379 non-null  object\n",
      " 21  restuarant_opposite_direction_house   12379 non-null  int64 \n",
      " 22  has Children                          12379 non-null  int64 \n",
      " 23  visit restaurant with rating (avg)    12379 non-null  int64 \n",
      " 24  Restaur_spend_greater_than20          12219 non-null  object\n",
      " 25  Travel Time                           12379 non-null  int64 \n",
      " 26  Climate                               12379 non-null  object\n",
      " 27  drop location                         12379 non-null  object\n",
      " 28  Prefer home food                      12379 non-null  int64 \n",
      " 29  Offer Accepted                        12379 non-null  object\n",
      "dtypes: int64(12), object(18)\n",
      "memory usage: 2.8+ MB\n"
     ]
    }
   ],
   "source": [
    "Train_data=train_data.drop('temperature',axis=1)\n",
    "Train_data.info()"
   ]
  },
  {
   "cell_type": "code",
   "execution_count": 4,
   "id": "4abb074d",
   "metadata": {
    "execution": {
     "iopub.execute_input": "2022-12-19T09:58:45.899001Z",
     "iopub.status.busy": "2022-12-19T09:58:45.898720Z",
     "iopub.status.idle": "2022-12-19T09:58:45.907023Z",
     "shell.execute_reply": "2022-12-19T09:58:45.906049Z"
    },
    "papermill": {
     "duration": 0.015111,
     "end_time": "2022-12-19T09:58:45.908979",
     "exception": false,
     "start_time": "2022-12-19T09:58:45.893868",
     "status": "completed"
    },
    "tags": []
   },
   "outputs": [],
   "source": [
    "x=Train_data.drop('Offer Accepted' , axis=1)\n",
    "y=Train_data['Offer Accepted'].copy()"
   ]
  },
  {
   "cell_type": "code",
   "execution_count": 5,
   "id": "be9d8cc4",
   "metadata": {
    "execution": {
     "iopub.execute_input": "2022-12-19T09:58:45.917766Z",
     "iopub.status.busy": "2022-12-19T09:58:45.917474Z",
     "iopub.status.idle": "2022-12-19T09:58:46.816379Z",
     "shell.execute_reply": "2022-12-19T09:58:46.815397Z"
    },
    "papermill": {
     "duration": 0.905857,
     "end_time": "2022-12-19T09:58:46.818743",
     "exception": false,
     "start_time": "2022-12-19T09:58:45.912886",
     "status": "completed"
    },
    "tags": []
   },
   "outputs": [],
   "source": [
    "from sklearn.preprocessing import OneHotEncoder\n",
    "enc=OneHotEncoder(sparse=False)\n",
    "X=enc.fit_transform(x)"
   ]
  },
  {
   "cell_type": "code",
   "execution_count": 6,
   "id": "14d344fe",
   "metadata": {
    "execution": {
     "iopub.execute_input": "2022-12-19T09:58:46.828412Z",
     "iopub.status.busy": "2022-12-19T09:58:46.828113Z",
     "iopub.status.idle": "2022-12-19T09:58:46.882422Z",
     "shell.execute_reply": "2022-12-19T09:58:46.881419Z"
    },
    "papermill": {
     "duration": 0.061769,
     "end_time": "2022-12-19T09:58:46.884774",
     "exception": false,
     "start_time": "2022-12-19T09:58:46.823005",
     "status": "completed"
    },
    "tags": []
   },
   "outputs": [],
   "source": [
    "from sklearn.model_selection import train_test_split\n",
    "X_train,X_test,y_train,y_test=train_test_split(X , y , test_size=0.2, random_state=42)"
   ]
  },
  {
   "cell_type": "code",
   "execution_count": 7,
   "id": "46ff641f",
   "metadata": {
    "execution": {
     "iopub.execute_input": "2022-12-19T09:58:46.897408Z",
     "iopub.status.busy": "2022-12-19T09:58:46.897090Z",
     "iopub.status.idle": "2022-12-19T09:58:46.941070Z",
     "shell.execute_reply": "2022-12-19T09:58:46.940105Z"
    },
    "papermill": {
     "duration": 0.051816,
     "end_time": "2022-12-19T09:58:46.943210",
     "exception": false,
     "start_time": "2022-12-19T09:58:46.891394",
     "status": "completed"
    },
    "tags": []
   },
   "outputs": [],
   "source": [
    "test_df=pd.read_csv('/kaggle/input/marketing-strategy-personalised-offer/test_data.csv')"
   ]
  },
  {
   "cell_type": "code",
   "execution_count": 8,
   "id": "f45aea5f",
   "metadata": {
    "execution": {
     "iopub.execute_input": "2022-12-19T09:58:46.952723Z",
     "iopub.status.busy": "2022-12-19T09:58:46.952420Z",
     "iopub.status.idle": "2022-12-19T09:58:46.998571Z",
     "shell.execute_reply": "2022-12-19T09:58:46.997727Z"
    },
    "papermill": {
     "duration": 0.053576,
     "end_time": "2022-12-19T09:58:47.000808",
     "exception": false,
     "start_time": "2022-12-19T09:58:46.947232",
     "status": "completed"
    },
    "tags": []
   },
   "outputs": [],
   "source": [
    "td_test=test_df.drop(columns=['temperature'])\n",
    "S_test=enc.fit_transform(td_test)"
   ]
  },
  {
   "cell_type": "code",
   "execution_count": 9,
   "id": "d48d88f3",
   "metadata": {
    "execution": {
     "iopub.execute_input": "2022-12-19T09:58:47.010128Z",
     "iopub.status.busy": "2022-12-19T09:58:47.009861Z",
     "iopub.status.idle": "2022-12-19T09:58:47.014856Z",
     "shell.execute_reply": "2022-12-19T09:58:47.013989Z"
    },
    "papermill": {
     "duration": 0.011884,
     "end_time": "2022-12-19T09:58:47.016756",
     "exception": false,
     "start_time": "2022-12-19T09:58:47.004872",
     "status": "completed"
    },
    "tags": []
   },
   "outputs": [],
   "source": [
    "# from sklearn.linear_model import Perceptron\n",
    "# from sklearn.metrics import accuracy_score\n",
    "from sklearn.metrics import f1_score\n",
    "# perc=Perceptron()\n",
    "# perc.fit(X_train,y_train)\n",
    "# y_pred=perc.predict(X_test)\n",
    "# f1_score(y_test, y_pred, pos_label='Yes')"
   ]
  },
  {
   "cell_type": "code",
   "execution_count": 10,
   "id": "bd386447",
   "metadata": {
    "execution": {
     "iopub.execute_input": "2022-12-19T09:58:47.026927Z",
     "iopub.status.busy": "2022-12-19T09:58:47.025445Z",
     "iopub.status.idle": "2022-12-19T09:58:47.030652Z",
     "shell.execute_reply": "2022-12-19T09:58:47.029848Z"
    },
    "papermill": {
     "duration": 0.011907,
     "end_time": "2022-12-19T09:58:47.032552",
     "exception": false,
     "start_time": "2022-12-19T09:58:47.020645",
     "status": "completed"
    },
    "tags": []
   },
   "outputs": [],
   "source": [
    "# from sklearn.svm import SVC\n",
    "# svc=SVC()\n",
    "# svc.fit(X_train,y_train)\n",
    "# f1_score(y_test, svc.predict(X_test), pos_label='Yes')"
   ]
  },
  {
   "cell_type": "code",
   "execution_count": 11,
   "id": "ecf8c436",
   "metadata": {
    "execution": {
     "iopub.execute_input": "2022-12-19T09:58:47.041986Z",
     "iopub.status.busy": "2022-12-19T09:58:47.041212Z",
     "iopub.status.idle": "2022-12-19T09:58:47.045461Z",
     "shell.execute_reply": "2022-12-19T09:58:47.044625Z"
    },
    "papermill": {
     "duration": 0.010961,
     "end_time": "2022-12-19T09:58:47.047404",
     "exception": false,
     "start_time": "2022-12-19T09:58:47.036443",
     "status": "completed"
    },
    "tags": []
   },
   "outputs": [],
   "source": [
    "# svc_rbf=SVC(kernel='rbf')\n",
    "# svc_rbf.fit(X_train,y_train)\n",
    "# f1_score(y_test, svc_rbf.predict(X_test), pos_label='Yes')"
   ]
  },
  {
   "cell_type": "code",
   "execution_count": 12,
   "id": "fb71a308",
   "metadata": {
    "execution": {
     "iopub.execute_input": "2022-12-19T09:58:47.056730Z",
     "iopub.status.busy": "2022-12-19T09:58:47.055988Z",
     "iopub.status.idle": "2022-12-19T09:58:47.060162Z",
     "shell.execute_reply": "2022-12-19T09:58:47.059334Z"
    },
    "papermill": {
     "duration": 0.010756,
     "end_time": "2022-12-19T09:58:47.062140",
     "exception": false,
     "start_time": "2022-12-19T09:58:47.051384",
     "status": "completed"
    },
    "tags": []
   },
   "outputs": [],
   "source": [
    "# from sklearn.tree import DecisionTreeClassifier\n",
    "# dtc=DecisionTreeClassifier()\n",
    "# dtc.fit(X_train,y_train)\n",
    "# f1_score(y_test, dtc.predict(X_test), pos_label='Yes')"
   ]
  },
  {
   "cell_type": "code",
   "execution_count": 13,
   "id": "e36aab8f",
   "metadata": {
    "execution": {
     "iopub.execute_input": "2022-12-19T09:58:47.071827Z",
     "iopub.status.busy": "2022-12-19T09:58:47.071019Z",
     "iopub.status.idle": "2022-12-19T09:58:47.075160Z",
     "shell.execute_reply": "2022-12-19T09:58:47.074343Z"
    },
    "papermill": {
     "duration": 0.011116,
     "end_time": "2022-12-19T09:58:47.077085",
     "exception": false,
     "start_time": "2022-12-19T09:58:47.065969",
     "status": "completed"
    },
    "tags": []
   },
   "outputs": [],
   "source": [
    "# from sklearn.naive_bayes import GaussianNB\n",
    "# nb = GaussianNB()\n",
    "# nb.fit(X_train, y_train)\n",
    "# f1_score(y_test, nb.predict(X_test), pos_label='Yes')"
   ]
  },
  {
   "cell_type": "code",
   "execution_count": 14,
   "id": "8b9b0934",
   "metadata": {
    "execution": {
     "iopub.execute_input": "2022-12-19T09:58:47.086644Z",
     "iopub.status.busy": "2022-12-19T09:58:47.085789Z",
     "iopub.status.idle": "2022-12-19T09:58:48.862495Z",
     "shell.execute_reply": "2022-12-19T09:58:48.861566Z"
    },
    "papermill": {
     "duration": 1.78392,
     "end_time": "2022-12-19T09:58:48.864911",
     "exception": false,
     "start_time": "2022-12-19T09:58:47.080991",
     "status": "completed"
    },
    "tags": []
   },
   "outputs": [
    {
     "data": {
      "text/plain": [
       "0.7015068932350113"
      ]
     },
     "execution_count": 14,
     "metadata": {},
     "output_type": "execute_result"
    }
   ],
   "source": [
    "from sklearn.ensemble import RandomForestClassifier\n",
    "rf = RandomForestClassifier()\n",
    "rf.fit(X_train, y_train)\n",
    "f1_score(y_test, rf.predict(X_test), pos_label='Yes')"
   ]
  },
  {
   "cell_type": "code",
   "execution_count": 15,
   "id": "4e6e4aeb",
   "metadata": {
    "execution": {
     "iopub.execute_input": "2022-12-19T09:58:48.876537Z",
     "iopub.status.busy": "2022-12-19T09:58:48.875719Z",
     "iopub.status.idle": "2022-12-19T09:58:48.925672Z",
     "shell.execute_reply": "2022-12-19T09:58:48.924766Z"
    },
    "papermill": {
     "duration": 0.058328,
     "end_time": "2022-12-19T09:58:48.927686",
     "exception": false,
     "start_time": "2022-12-19T09:58:48.869358",
     "status": "completed"
    },
    "tags": []
   },
   "outputs": [],
   "source": [
    "modify_test=test_df.drop(columns=['temperature'])\n",
    "fit_test=enc.fit_transform(modify_test)"
   ]
  },
  {
   "cell_type": "code",
   "execution_count": 16,
   "id": "00d62d6b",
   "metadata": {
    "execution": {
     "iopub.execute_input": "2022-12-19T09:58:48.937397Z",
     "iopub.status.busy": "2022-12-19T09:58:48.937123Z",
     "iopub.status.idle": "2022-12-19T09:58:49.068106Z",
     "shell.execute_reply": "2022-12-19T09:58:49.066847Z"
    },
    "papermill": {
     "duration": 0.138527,
     "end_time": "2022-12-19T09:58:49.070515",
     "exception": false,
     "start_time": "2022-12-19T09:58:48.931988",
     "status": "completed"
    },
    "tags": []
   },
   "outputs": [],
   "source": [
    "prediction = rf.predict(fit_test)"
   ]
  },
  {
   "cell_type": "code",
   "execution_count": 17,
   "id": "70aeaaa1",
   "metadata": {
    "execution": {
     "iopub.execute_input": "2022-12-19T09:58:49.079964Z",
     "iopub.status.busy": "2022-12-19T09:58:49.079641Z",
     "iopub.status.idle": "2022-12-19T09:58:49.216420Z",
     "shell.execute_reply": "2022-12-19T09:58:49.215334Z"
    },
    "papermill": {
     "duration": 0.1441,
     "end_time": "2022-12-19T09:58:49.218817",
     "exception": false,
     "start_time": "2022-12-19T09:58:49.074717",
     "status": "completed"
    },
    "tags": []
   },
   "outputs": [],
   "source": [
    "final_prediction=pd.DataFrame({'id':range(0,5305) , 'Offer Accepted':rf.predict(fit_test)})\n",
    "final_prediction.to_csv('submission.csv',index=False)"
   ]
  }
 ],
 "metadata": {
  "kernelspec": {
   "display_name": "Python 3",
   "language": "python",
   "name": "python3"
  },
  "language_info": {
   "codemirror_mode": {
    "name": "ipython",
    "version": 3
   },
   "file_extension": ".py",
   "mimetype": "text/x-python",
   "name": "python",
   "nbconvert_exporter": "python",
   "pygments_lexer": "ipython3",
   "version": "3.7.12"
  },
  "papermill": {
   "default_parameters": {},
   "duration": 11.69462,
   "end_time": "2022-12-19T09:58:49.944888",
   "environment_variables": {},
   "exception": null,
   "input_path": "__notebook__.ipynb",
   "output_path": "__notebook__.ipynb",
   "parameters": {},
   "start_time": "2022-12-19T09:58:38.250268",
   "version": "2.3.4"
  }
 },
 "nbformat": 4,
 "nbformat_minor": 5
}
